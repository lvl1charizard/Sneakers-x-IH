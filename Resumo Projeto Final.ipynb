{
 "cells": [
  {
   "cell_type": "markdown",
   "metadata": {},
   "source": [
    "# Resumo do Projeto\n",
    "O que fazer e passo a passo (extração dos dados, limpeza dos dados, exploração dos dados/análise exploratoria, conclusão/modelo)"
   ]
  },
  {
   "cell_type": "markdown",
   "metadata": {},
   "source": [
    "# Importar as bibliotecas\n"
   ]
  },
  {
   "cell_type": "code",
   "execution_count": null,
   "metadata": {},
   "outputs": [],
   "source": [
    "#célula de codigo com todas as bibliotecas a serem importadas"
   ]
  },
  {
   "cell_type": "code",
   "execution_count": 134,
   "metadata": {
    "ExecuteTime": {
     "end_time": "2021-04-20T14:00:57.505612Z",
     "start_time": "2021-04-20T14:00:57.482849Z"
    }
   },
   "outputs": [],
   "source": [
    "import requests\n",
    "import os\n",
    "import json\n",
    "import pandas as pd\n",
    "import matplotlib as plt\n",
    "import numpy as np\n",
    "import re"
   ]
  },
  {
   "cell_type": "markdown",
   "metadata": {},
   "source": [
    "# Extração dos dados\n",
    "Webscraping e API"
   ]
  },
  {
   "cell_type": "markdown",
   "metadata": {},
   "source": [
    "## Webscraping"
   ]
  },
  {
   "cell_type": "markdown",
   "metadata": {},
   "source": [
    "## APIs"
   ]
  },
  {
   "cell_type": "markdown",
   "metadata": {},
   "source": [
    "   #   Webscraping"
   ]
  },
  {
   "cell_type": "markdown",
   "metadata": {},
   "source": [
    "# Limpeza dos Dados"
   ]
  },
  {
   "cell_type": "markdown",
   "metadata": {},
   "source": [
    "## Conversão do Excel em CSV"
   ]
  },
  {
   "cell_type": "code",
   "execution_count": 9,
   "metadata": {
    "ExecuteTime": {
     "end_time": "2021-04-17T16:46:49.857113Z",
     "start_time": "2021-04-17T16:46:34.993948Z"
    }
   },
   "outputs": [
    {
     "name": "stdout",
     "output_type": "stream",
     "text": [
      "      Order Date   Brand                                   Sneaker Name  \\\n",
      "0     2017-09-01   Yeezy           Adidas-Yeezy-Boost-350-Low-V2-Beluga   \n",
      "1     2017-09-01   Yeezy    Adidas-Yeezy-Boost-350-V2-Core-Black-Copper   \n",
      "2     2017-09-01   Yeezy     Adidas-Yeezy-Boost-350-V2-Core-Black-Green   \n",
      "3     2017-09-01   Yeezy       Adidas-Yeezy-Boost-350-V2-Core-Black-Red   \n",
      "4     2017-09-01   Yeezy  Adidas-Yeezy-Boost-350-V2-Core-Black-Red-2017   \n",
      "...          ...     ...                                            ...   \n",
      "99951 2019-02-13   Yeezy    adidas-Yeezy-Boost-350-V2-Static-Reflective   \n",
      "99952 2019-02-13   Yeezy    adidas-Yeezy-Boost-350-V2-Static-Reflective   \n",
      "99953 2019-02-13   Yeezy    adidas-Yeezy-Boost-350-V2-Static-Reflective   \n",
      "99954 2019-02-13   Yeezy    adidas-Yeezy-Boost-350-V2-Static-Reflective   \n",
      "99955 2019-02-13   Yeezy    adidas-Yeezy-Boost-350-V2-Static-Reflective   \n",
      "\n",
      "       Sale Price  Retail Price Release Date  Shoe Size  Buyer Region  \n",
      "0          1097.0           220   2016-09-24       11.0    California  \n",
      "1           685.0           220   2016-11-23       11.0    California  \n",
      "2           690.0           220   2016-11-23       11.0    California  \n",
      "3          1075.0           220   2016-11-23       11.5      Kentucky  \n",
      "4           828.0           220   2017-02-11       11.0  Rhode Island  \n",
      "...           ...           ...          ...        ...           ...  \n",
      "99951       565.0           220   2018-12-26        8.0        Oregon  \n",
      "99952       598.0           220   2018-12-26        8.5    California  \n",
      "99953       605.0           220   2018-12-26        5.5      New York  \n",
      "99954       650.0           220   2018-12-26       11.0    California  \n",
      "99955       640.0           220   2018-12-26       11.5         Texas  \n",
      "\n",
      "[99956 rows x 8 columns]\n"
     ]
    }
   ],
   "source": [
    "sneakers = pd.read_excel ('StockX-Data-Contest-2019-3.xlsx', sheet_name='Raw Data')\n",
    "print (sneakers)"
   ]
  },
  {
   "cell_type": "code",
   "execution_count": 13,
   "metadata": {
    "ExecuteTime": {
     "end_time": "2021-04-17T16:49:40.643223Z",
     "start_time": "2021-04-17T16:49:37.825123Z"
    }
   },
   "outputs": [],
   "source": [
    "sneakers.to_csv('sneakers1.csv', index=False)"
   ]
  },
  {
   "cell_type": "markdown",
   "metadata": {},
   "source": [
    "## Seleção das colunas a serem utilizadas na análise"
   ]
  },
  {
   "cell_type": "code",
   "execution_count": 97,
   "metadata": {
    "ExecuteTime": {
     "end_time": "2021-04-20T01:58:17.967709Z",
     "start_time": "2021-04-20T01:58:17.952750Z"
    }
   },
   "outputs": [],
   "source": [
    "#bova\n",
    "#nike\n",
    "#unilev\n",
    "#daimler\n",
    "#petr\n",
    "#vale\n",
    "#ambev"
   ]
  },
  {
   "cell_type": "code",
   "execution_count": 31,
   "metadata": {
    "ExecuteTime": {
     "end_time": "2021-04-17T18:49:49.379140Z",
     "start_time": "2021-04-17T18:49:49.359575Z"
    }
   },
   "outputs": [],
   "source": [
    "bova = pd.read_csv('BOVA11.SA (1).csv', usecols = ['Date', 'Close'])"
   ]
  },
  {
   "cell_type": "code",
   "execution_count": 30,
   "metadata": {
    "ExecuteTime": {
     "end_time": "2021-04-17T18:49:45.958766Z",
     "start_time": "2021-04-17T18:49:45.936192Z"
    }
   },
   "outputs": [],
   "source": [
    "nike = pd.read_csv('NKE.csv', usecols = ['Date', 'Close'])"
   ]
  },
  {
   "cell_type": "code",
   "execution_count": 29,
   "metadata": {
    "ExecuteTime": {
     "end_time": "2021-04-17T18:49:42.233228Z",
     "start_time": "2021-04-17T18:49:42.209249Z"
    }
   },
   "outputs": [],
   "source": [
    "unilev = pd.read_csv('UL.csv', usecols = ['Date', 'Close'])"
   ]
  },
  {
   "cell_type": "code",
   "execution_count": 28,
   "metadata": {
    "ExecuteTime": {
     "end_time": "2021-04-17T18:49:37.954270Z",
     "start_time": "2021-04-17T18:49:37.936733Z"
    }
   },
   "outputs": [],
   "source": [
    "daimler = pd.read_csv('DAI.DE.csv', usecols = ['Date', 'Close'])"
   ]
  },
  {
   "cell_type": "code",
   "execution_count": 26,
   "metadata": {
    "ExecuteTime": {
     "end_time": "2021-04-17T18:49:28.754487Z",
     "start_time": "2021-04-17T18:49:28.735555Z"
    }
   },
   "outputs": [],
   "source": [
    "petr = pd.read_csv('PETR4.SA.csv', usecols = ['Date', 'Close'])"
   ]
  },
  {
   "cell_type": "code",
   "execution_count": 27,
   "metadata": {
    "ExecuteTime": {
     "end_time": "2021-04-17T18:49:34.455439Z",
     "start_time": "2021-04-17T18:49:34.446535Z"
    }
   },
   "outputs": [],
   "source": [
    "vale = pd.read_csv('VALE3.SA.csv', usecols = ['Date', 'Close'])"
   ]
  },
  {
   "cell_type": "code",
   "execution_count": 24,
   "metadata": {
    "ExecuteTime": {
     "end_time": "2021-04-17T18:49:11.088193Z",
     "start_time": "2021-04-17T18:49:11.074387Z"
    }
   },
   "outputs": [],
   "source": [
    "ambev = pd.read_csv('ABEV3.SA.csv', usecols = ['Date', 'Close'])"
   ]
  },
  {
   "cell_type": "code",
   "execution_count": 136,
   "metadata": {
    "ExecuteTime": {
     "end_time": "2021-04-20T14:11:27.020835Z",
     "start_time": "2021-04-20T14:11:26.970082Z"
    }
   },
   "outputs": [],
   "source": [
    "adidas = pd.read_csv('ADS.DE.csv', usecols = ['Date', 'Close'])"
   ]
  },
  {
   "cell_type": "markdown",
   "metadata": {},
   "source": [
    "## Limpeza/filtro da variação % diária"
   ]
  },
  {
   "cell_type": "code",
   "execution_count": null,
   "metadata": {},
   "outputs": [],
   "source": [
    "#1. fazer essa célula abaixo para todas as ações"
   ]
  },
  {
   "cell_type": "code",
   "execution_count": 137,
   "metadata": {
    "ExecuteTime": {
     "end_time": "2021-04-20T14:11:57.651359Z",
     "start_time": "2021-04-20T14:11:57.615763Z"
    }
   },
   "outputs": [
    {
     "data": {
      "text/plain": [
       "0           NaN\n",
       "1     -0.006278\n",
       "2      0.012073\n",
       "3     -0.011375\n",
       "4     -0.015715\n",
       "         ...   \n",
       "942    0.005798\n",
       "943    0.008020\n",
       "944   -0.012183\n",
       "945   -0.008306\n",
       "946    0.010914\n",
       "Name: Close, Length: 947, dtype: float64"
      ]
     },
     "execution_count": 137,
     "metadata": {},
     "output_type": "execute_result"
    }
   ],
   "source": [
    "adidas['Close'].pct_change()"
   ]
  },
  {
   "cell_type": "code",
   "execution_count": 138,
   "metadata": {
    "ExecuteTime": {
     "end_time": "2021-04-20T14:12:22.133017Z",
     "start_time": "2021-04-20T14:12:22.109082Z"
    }
   },
   "outputs": [],
   "source": [
    "adidas['% adidas'] = adidas['Close'].pct_change()"
   ]
  },
  {
   "cell_type": "code",
   "execution_count": 131,
   "metadata": {
    "ExecuteTime": {
     "end_time": "2021-04-20T13:54:17.671651Z",
     "start_time": "2021-04-20T13:54:17.642828Z"
    }
   },
   "outputs": [
    {
     "data": {
      "text/plain": [
       "0           NaN\n",
       "1      0.022542\n",
       "2     -0.011022\n",
       "3     -0.012875\n",
       "4     -0.002336\n",
       "         ...   \n",
       "920    0.007692\n",
       "921   -0.007743\n",
       "922    0.016046\n",
       "923    0.001623\n",
       "924    0.018790\n",
       "Name: Close, Length: 925, dtype: float64"
      ]
     },
     "execution_count": 131,
     "metadata": {},
     "output_type": "execute_result"
    }
   ],
   "source": [
    "bova['Close'].pct_change()"
   ]
  },
  {
   "cell_type": "code",
   "execution_count": 132,
   "metadata": {
    "ExecuteTime": {
     "end_time": "2021-04-20T13:56:08.507737Z",
     "start_time": "2021-04-20T13:56:08.490789Z"
    }
   },
   "outputs": [],
   "source": [
    "bova['% bova'] = bova['Close'].pct_change()"
   ]
  },
  {
   "cell_type": "code",
   "execution_count": 129,
   "metadata": {
    "ExecuteTime": {
     "end_time": "2021-04-20T13:52:52.475110Z",
     "start_time": "2021-04-20T13:52:52.458073Z"
    }
   },
   "outputs": [
    {
     "data": {
      "text/plain": [
       "0           NaN\n",
       "1      0.065369\n",
       "2     -0.021546\n",
       "3     -0.013882\n",
       "4     -0.024272\n",
       "         ...   \n",
       "920    0.037749\n",
       "921   -0.026413\n",
       "922    0.054260\n",
       "923    0.026862\n",
       "924    0.003737\n",
       "Name: Close, Length: 925, dtype: float64"
      ]
     },
     "execution_count": 129,
     "metadata": {},
     "output_type": "execute_result"
    }
   ],
   "source": [
    "vale['Close'].pct_change()"
   ]
  },
  {
   "cell_type": "code",
   "execution_count": 130,
   "metadata": {
    "ExecuteTime": {
     "end_time": "2021-04-20T13:53:16.292829Z",
     "start_time": "2021-04-20T13:53:16.278071Z"
    }
   },
   "outputs": [],
   "source": [
    "vale['% vale'] = vale['Close'].pct_change()"
   ]
  },
  {
   "cell_type": "code",
   "execution_count": 126,
   "metadata": {
    "ExecuteTime": {
     "end_time": "2021-04-20T13:51:36.202046Z",
     "start_time": "2021-04-20T13:51:36.186148Z"
    }
   },
   "outputs": [
    {
     "data": {
      "text/plain": [
       "0           NaN\n",
       "1      0.042071\n",
       "2     -0.006988\n",
       "3     -0.017201\n",
       "4      0.000000\n",
       "         ...   \n",
       "920    0.001594\n",
       "921   -0.011540\n",
       "922    0.035427\n",
       "923    0.012830\n",
       "924    0.034549\n",
       "Name: Close, Length: 925, dtype: float64"
      ]
     },
     "execution_count": 126,
     "metadata": {},
     "output_type": "execute_result"
    }
   ],
   "source": [
    "petr['Close'].pct_change()"
   ]
  },
  {
   "cell_type": "code",
   "execution_count": 128,
   "metadata": {
    "ExecuteTime": {
     "end_time": "2021-04-20T13:52:33.952191Z",
     "start_time": "2021-04-20T13:52:33.930176Z"
    }
   },
   "outputs": [],
   "source": [
    "petr['% petr'] = petr['Close'].pct_change()"
   ]
  },
  {
   "cell_type": "code",
   "execution_count": 119,
   "metadata": {
    "ExecuteTime": {
     "end_time": "2021-04-20T13:38:55.890646Z",
     "start_time": "2021-04-20T13:38:55.870632Z"
    }
   },
   "outputs": [
    {
     "data": {
      "text/plain": [
       "0           NaN\n",
       "1     -0.024259\n",
       "2      0.001673\n",
       "3     -0.010263\n",
       "4     -0.013142\n",
       "         ...   \n",
       "941   -0.024683\n",
       "942    0.003124\n",
       "943    0.025436\n",
       "944    0.016908\n",
       "945   -0.018319\n",
       "Name: Close, Length: 946, dtype: float64"
      ]
     },
     "execution_count": 119,
     "metadata": {},
     "output_type": "execute_result"
    }
   ],
   "source": [
    "daimler['Close'].pct_change()"
   ]
  },
  {
   "cell_type": "code",
   "execution_count": 120,
   "metadata": {
    "ExecuteTime": {
     "end_time": "2021-04-20T13:38:58.167352Z",
     "start_time": "2021-04-20T13:38:58.152420Z"
    }
   },
   "outputs": [],
   "source": [
    "daimler['% daimler'] = daimler['Close'].pct_change()"
   ]
  },
  {
   "cell_type": "code",
   "execution_count": 108,
   "metadata": {
    "ExecuteTime": {
     "end_time": "2021-04-20T13:11:45.257576Z",
     "start_time": "2021-04-20T13:11:44.996062Z"
    }
   },
   "outputs": [
    {
     "data": {
      "text/plain": [
       "0           NaN\n",
       "1     -0.002971\n",
       "2      0.012148\n",
       "3     -0.006793\n",
       "4     -0.020520\n",
       "         ...   \n",
       "930    0.000737\n",
       "931   -0.006257\n",
       "932    0.016296\n",
       "933   -0.002004\n",
       "934   -0.005295\n",
       "Name: Close, Length: 935, dtype: float64"
      ]
     },
     "execution_count": 108,
     "metadata": {},
     "output_type": "execute_result"
    }
   ],
   "source": [
    "unilev['Close'].pct_change()"
   ]
  },
  {
   "cell_type": "code",
   "execution_count": 109,
   "metadata": {
    "ExecuteTime": {
     "end_time": "2021-04-20T13:11:48.207260Z",
     "start_time": "2021-04-20T13:11:48.184838Z"
    }
   },
   "outputs": [],
   "source": [
    "unilev['% unilev'] = unilev['Close'].pct_change()"
   ]
  },
  {
   "cell_type": "code",
   "execution_count": 93,
   "metadata": {
    "ExecuteTime": {
     "end_time": "2021-04-20T01:46:37.288848Z",
     "start_time": "2021-04-20T01:46:37.246891Z"
    }
   },
   "outputs": [
    {
     "data": {
      "text/plain": [
       "0           NaN\n",
       "1      0.003439\n",
       "2      0.003917\n",
       "3     -0.005463\n",
       "4      0.000785\n",
       "         ...   \n",
       "930   -0.000364\n",
       "931    0.016027\n",
       "932    0.012309\n",
       "933    0.008145\n",
       "934   -0.008431\n",
       "Name: Close, Length: 935, dtype: float64"
      ]
     },
     "execution_count": 93,
     "metadata": {},
     "output_type": "execute_result"
    }
   ],
   "source": [
    "nike['Close'].pct_change()"
   ]
  },
  {
   "cell_type": "code",
   "execution_count": 94,
   "metadata": {
    "ExecuteTime": {
     "end_time": "2021-04-20T01:46:45.420822Z",
     "start_time": "2021-04-20T01:46:45.405862Z"
    }
   },
   "outputs": [],
   "source": [
    "nike['% nike'] = nike['Close'].pct_change()"
   ]
  },
  {
   "cell_type": "code",
   "execution_count": 34,
   "metadata": {
    "ExecuteTime": {
     "end_time": "2021-04-17T18:54:02.912787Z",
     "start_time": "2021-04-17T18:53:58.433613Z"
    }
   },
   "outputs": [
    {
     "data": {
      "text/plain": [
       "0           NaN\n",
       "1     -0.002688\n",
       "2     -0.007008\n",
       "3      0.015201\n",
       "4     -0.012834\n",
       "         ...   \n",
       "920   -0.028267\n",
       "921    0.026894\n",
       "922   -0.002138\n",
       "923   -0.014997\n",
       "924    0.010876\n",
       "Name: Close, Length: 925, dtype: float64"
      ]
     },
     "execution_count": 34,
     "metadata": {},
     "output_type": "execute_result"
    }
   ],
   "source": [
    "ambev['Close'].pct_change()"
   ]
  },
  {
   "cell_type": "code",
   "execution_count": 35,
   "metadata": {
    "ExecuteTime": {
     "end_time": "2021-04-17T18:55:59.231444Z",
     "start_time": "2021-04-17T18:55:59.203721Z"
    }
   },
   "outputs": [],
   "source": [
    "ambev['% ambev'] = ambev['Close'].pct_change()\n",
    "#criação de uma coluna que mede a variação % diária"
   ]
  },
  {
   "cell_type": "markdown",
   "metadata": {},
   "source": [
    "## Normalização dos calendários/datas"
   ]
  },
  {
   "cell_type": "code",
   "execution_count": 57,
   "metadata": {
    "ExecuteTime": {
     "end_time": "2021-04-17T19:24:06.270954Z",
     "start_time": "2021-04-17T19:24:06.240113Z"
    }
   },
   "outputs": [
    {
     "data": {
      "text/plain": [
       "DatetimeIndex(['2015-06-01', '2015-06-02', '2015-06-03', '2015-06-04',\n",
       "               '2015-06-05', '2015-06-06', '2015-06-07', '2015-06-08',\n",
       "               '2015-06-09', '2015-06-10',\n",
       "               ...\n",
       "               '2019-02-05', '2019-02-06', '2019-02-07', '2019-02-08',\n",
       "               '2019-02-09', '2019-02-10', '2019-02-11', '2019-02-12',\n",
       "               '2019-02-13', '2019-02-14'],\n",
       "              dtype='datetime64[ns]', length=1355, freq='D')"
      ]
     },
     "execution_count": 57,
     "metadata": {},
     "output_type": "execute_result"
    }
   ],
   "source": [
    "pd.date_range(start='2015-06-01', end='2019-02-14')\n",
    "#fez uma lista de todas as datas no dataset sem excluir os fds, criando isso no ambiente do Python, não no CSV da ambev"
   ]
  },
  {
   "cell_type": "code",
   "execution_count": 76,
   "metadata": {
    "ExecuteTime": {
     "end_time": "2021-04-17T19:35:23.627768Z",
     "start_time": "2021-04-17T19:35:23.615559Z"
    }
   },
   "outputs": [],
   "source": [
    "datefinal = pd.DataFrame(pd.date_range(start='2015-06-01', end='2019-02-14'), columns=['Date'])\n",
    "datefinal['Date'] = datefinal['Date'].dt.date.astype('object')\n",
    "#criou um dataframe/coluna com um range de datas que engloba todas as release dates possíveis"
   ]
  },
  {
   "cell_type": "code",
   "execution_count": 78,
   "metadata": {
    "ExecuteTime": {
     "end_time": "2021-04-17T19:35:30.568239Z",
     "start_time": "2021-04-17T19:35:30.558721Z"
    }
   },
   "outputs": [
    {
     "name": "stdout",
     "output_type": "stream",
     "text": [
      "<class 'pandas.core.frame.DataFrame'>\n",
      "RangeIndex: 1355 entries, 0 to 1354\n",
      "Data columns (total 1 columns):\n",
      " #   Column  Non-Null Count  Dtype \n",
      "---  ------  --------------  ----- \n",
      " 0   Date    1355 non-null   object\n",
      "dtypes: object(1)\n",
      "memory usage: 10.7+ KB\n"
     ]
    }
   ],
   "source": [
    "datefinal.info()"
   ]
  },
  {
   "cell_type": "markdown",
   "metadata": {},
   "source": [
    "## Adicionou a coluna de datas para todos os dataframes das ações"
   ]
  },
  {
   "cell_type": "code",
   "execution_count": null,
   "metadata": {},
   "outputs": [],
   "source": [
    "#3. depois de fazer o esquema do object pro Date das ações, fazer o merge"
   ]
  },
  {
   "cell_type": "code",
   "execution_count": 80,
   "metadata": {
    "ExecuteTime": {
     "end_time": "2021-04-17T19:36:10.432883Z",
     "start_time": "2021-04-17T19:36:10.421362Z"
    }
   },
   "outputs": [],
   "source": [
    "ambev = ambev.merge(datefinal, how = 'right')\n",
    "#?oq é mesmo o datefinal?"
   ]
  },
  {
   "cell_type": "code",
   "execution_count": 98,
   "metadata": {
    "ExecuteTime": {
     "end_time": "2021-04-20T01:58:51.075325Z",
     "start_time": "2021-04-20T01:58:50.973000Z"
    }
   },
   "outputs": [],
   "source": [
    "nike = nike.merge(datefinal, how = 'right')"
   ]
  },
  {
   "cell_type": "code",
   "execution_count": 111,
   "metadata": {
    "ExecuteTime": {
     "end_time": "2021-04-20T13:13:39.825028Z",
     "start_time": "2021-04-20T13:13:39.739553Z"
    }
   },
   "outputs": [],
   "source": [
    "unilev = unilev.merge(datefinal, how = 'right')"
   ]
  },
  {
   "cell_type": "code",
   "execution_count": 122,
   "metadata": {
    "ExecuteTime": {
     "end_time": "2021-04-20T13:40:34.227304Z",
     "start_time": "2021-04-20T13:40:34.201723Z"
    }
   },
   "outputs": [],
   "source": [
    "daimler = daimler.merge(datefinal, how = 'right')"
   ]
  },
  {
   "cell_type": "code",
   "execution_count": 143,
   "metadata": {
    "ExecuteTime": {
     "end_time": "2021-04-20T14:21:18.157558Z",
     "start_time": "2021-04-20T14:21:18.136592Z"
    }
   },
   "outputs": [],
   "source": [
    "petr = petr.merge(datefinal, how = 'right')"
   ]
  },
  {
   "cell_type": "code",
   "execution_count": 144,
   "metadata": {
    "ExecuteTime": {
     "end_time": "2021-04-20T14:21:28.846983Z",
     "start_time": "2021-04-20T14:21:28.825674Z"
    }
   },
   "outputs": [],
   "source": [
    "vale = vale.merge(datefinal, how = 'right')"
   ]
  },
  {
   "cell_type": "code",
   "execution_count": 145,
   "metadata": {
    "ExecuteTime": {
     "end_time": "2021-04-20T14:21:51.964699Z",
     "start_time": "2021-04-20T14:21:51.945988Z"
    }
   },
   "outputs": [],
   "source": [
    "bova = bova.merge(datefinal, how = 'right')"
   ]
  },
  {
   "cell_type": "code",
   "execution_count": 146,
   "metadata": {
    "ExecuteTime": {
     "end_time": "2021-04-20T14:22:27.615656Z",
     "start_time": "2021-04-20T14:22:27.594801Z"
    }
   },
   "outputs": [],
   "source": [
    "adidas = adidas.merge(datefinal, how = 'right')"
   ]
  },
  {
   "cell_type": "markdown",
   "metadata": {},
   "source": [
    "# Adicionar as colunas no dataset"
   ]
  },
  {
   "cell_type": "code",
   "execution_count": null,
   "metadata": {},
   "outputs": [],
   "source": [
    "#4. após fazer o merge, fazer os dois fillna"
   ]
  },
  {
   "cell_type": "code",
   "execution_count": 84,
   "metadata": {
    "ExecuteTime": {
     "end_time": "2021-04-17T19:38:19.946977Z",
     "start_time": "2021-04-17T19:38:19.936659Z"
    }
   },
   "outputs": [],
   "source": [
    "ambev['Close'] = ambev['Close'].fillna(method='bfill')\n",
    "#na coluna Close substituiu todos os preços de fechamento tavam null pelo valor que apareceu anteriormente, para casos de dias de feriado ou fds"
   ]
  },
  {
   "cell_type": "code",
   "execution_count": 85,
   "metadata": {
    "ExecuteTime": {
     "end_time": "2021-04-17T19:40:20.345037Z",
     "start_time": "2021-04-17T19:40:20.335696Z"
    }
   },
   "outputs": [],
   "source": [
    "ambev['% ambev'] = ambev['% ambev'].fillna(method='bfill')\n",
    "#na coluna Close substituiu todos os % que tavam null pelo valor que apareceu anteriormente, para casos de dias de feriado ou fds"
   ]
  },
  {
   "cell_type": "code",
   "execution_count": 99,
   "metadata": {
    "ExecuteTime": {
     "end_time": "2021-04-20T02:00:43.512406Z",
     "start_time": "2021-04-20T02:00:43.501479Z"
    }
   },
   "outputs": [],
   "source": [
    "nike['Close'] = nike['Close'].fillna(method='bfill')"
   ]
  },
  {
   "cell_type": "code",
   "execution_count": 101,
   "metadata": {
    "ExecuteTime": {
     "end_time": "2021-04-20T02:06:20.283630Z",
     "start_time": "2021-04-20T02:06:20.270667Z"
    }
   },
   "outputs": [],
   "source": [
    "nike['% nike'] = nike['% nike'].fillna(method='bfill')"
   ]
  },
  {
   "cell_type": "code",
   "execution_count": 113,
   "metadata": {
    "ExecuteTime": {
     "end_time": "2021-04-20T13:23:19.602651Z",
     "start_time": "2021-04-20T13:23:19.591693Z"
    }
   },
   "outputs": [],
   "source": [
    "unilev['Close'] = unilev['Close'].fillna(method='bfill')"
   ]
  },
  {
   "cell_type": "code",
   "execution_count": 114,
   "metadata": {
    "ExecuteTime": {
     "end_time": "2021-04-20T13:23:21.855333Z",
     "start_time": "2021-04-20T13:23:21.849346Z"
    }
   },
   "outputs": [],
   "source": [
    "unilev['% unilev'] = unilev['% unilev'].fillna(method='bfill')"
   ]
  },
  {
   "cell_type": "code",
   "execution_count": 123,
   "metadata": {
    "ExecuteTime": {
     "end_time": "2021-04-20T13:41:26.614610Z",
     "start_time": "2021-04-20T13:41:26.601163Z"
    }
   },
   "outputs": [],
   "source": [
    "daimler['Close'] = daimler['Close'].fillna(method='bfill')"
   ]
  },
  {
   "cell_type": "code",
   "execution_count": 124,
   "metadata": {
    "ExecuteTime": {
     "end_time": "2021-04-20T13:41:30.164552Z",
     "start_time": "2021-04-20T13:41:30.153383Z"
    }
   },
   "outputs": [],
   "source": [
    "daimler['% daimler'] = daimler['% daimler'].fillna(method='bfill')"
   ]
  },
  {
   "cell_type": "code",
   "execution_count": 147,
   "metadata": {
    "ExecuteTime": {
     "end_time": "2021-04-20T14:24:25.309673Z",
     "start_time": "2021-04-20T14:24:25.294675Z"
    }
   },
   "outputs": [],
   "source": [
    "petr['Close'] = petr['Close'].fillna(method='bfill')"
   ]
  },
  {
   "cell_type": "code",
   "execution_count": 148,
   "metadata": {
    "ExecuteTime": {
     "end_time": "2021-04-20T14:24:27.208241Z",
     "start_time": "2021-04-20T14:24:27.194159Z"
    }
   },
   "outputs": [],
   "source": [
    "petr['% petr'] = petr['% petr'].fillna(method='bfill')"
   ]
  },
  {
   "cell_type": "code",
   "execution_count": 149,
   "metadata": {
    "ExecuteTime": {
     "end_time": "2021-04-20T14:24:59.209746Z",
     "start_time": "2021-04-20T14:24:59.191800Z"
    }
   },
   "outputs": [],
   "source": [
    "vale['Close'] = vale['Close'].fillna(method='bfill')"
   ]
  },
  {
   "cell_type": "code",
   "execution_count": 150,
   "metadata": {
    "ExecuteTime": {
     "end_time": "2021-04-20T14:25:47.990411Z",
     "start_time": "2021-04-20T14:25:47.978429Z"
    }
   },
   "outputs": [],
   "source": [
    "vale['% vale'] = vale['% vale'].fillna(method='bfill')"
   ]
  },
  {
   "cell_type": "code",
   "execution_count": 151,
   "metadata": {
    "ExecuteTime": {
     "end_time": "2021-04-20T14:26:09.223516Z",
     "start_time": "2021-04-20T14:26:09.209654Z"
    }
   },
   "outputs": [],
   "source": [
    "bova['Close'] = bova['Close'].fillna(method='bfill')"
   ]
  },
  {
   "cell_type": "code",
   "execution_count": 152,
   "metadata": {
    "ExecuteTime": {
     "end_time": "2021-04-20T14:26:37.187909Z",
     "start_time": "2021-04-20T14:26:37.179156Z"
    }
   },
   "outputs": [],
   "source": [
    "bova['% bova'] = bova['% bova'].fillna(method='bfill')"
   ]
  },
  {
   "cell_type": "code",
   "execution_count": 153,
   "metadata": {
    "ExecuteTime": {
     "end_time": "2021-04-20T14:27:01.295625Z",
     "start_time": "2021-04-20T14:27:01.275593Z"
    }
   },
   "outputs": [],
   "source": [
    "adidas['Close'] = adidas['Close'].fillna(method='bfill')"
   ]
  },
  {
   "cell_type": "code",
   "execution_count": 154,
   "metadata": {
    "ExecuteTime": {
     "end_time": "2021-04-20T14:27:27.484502Z",
     "start_time": "2021-04-20T14:27:27.466439Z"
    }
   },
   "outputs": [],
   "source": [
    "adidas['% adidas'] = adidas['% adidas'].fillna(method='bfill')"
   ]
  },
  {
   "cell_type": "code",
   "execution_count": 46,
   "metadata": {
    "ExecuteTime": {
     "end_time": "2021-04-17T19:04:51.826577Z",
     "start_time": "2021-04-17T19:04:51.761438Z"
    }
   },
   "outputs": [
    {
     "data": {
      "text/plain": [
       "0        2016-09-24\n",
       "1        2016-11-23\n",
       "2        2016-11-23\n",
       "3        2016-11-23\n",
       "4        2017-02-11\n",
       "            ...    \n",
       "99951    2018-12-26\n",
       "99952    2018-12-26\n",
       "99953    2018-12-26\n",
       "99954    2018-12-26\n",
       "99955    2018-12-26\n",
       "Name: Release Date, Length: 99956, dtype: object"
      ]
     },
     "execution_count": 46,
     "metadata": {},
     "output_type": "execute_result"
    }
   ],
   "source": [
    "sneakers['Release Date'].dt.date.astype('object')\n",
    "#??converteu a coluna Release Date em object"
   ]
  },
  {
   "cell_type": "code",
   "execution_count": null,
   "metadata": {},
   "outputs": [],
   "source": [
    "#2. fazer essa célula abaixo para todas as ações, depois de ter feito o esquema do pct change pra todas elas"
   ]
  },
  {
   "cell_type": "code",
   "execution_count": 52,
   "metadata": {
    "ExecuteTime": {
     "end_time": "2021-04-17T19:12:26.391888Z",
     "start_time": "2021-04-17T19:12:26.369836Z"
    }
   },
   "outputs": [],
   "source": [
    "ambev['Date'] = pd.to_datetime(ambev['Date']).dt.date.astype('object')\n",
    "#?? converteu a coluna Date na Ambev para object"
   ]
  },
  {
   "cell_type": "code",
   "execution_count": 96,
   "metadata": {
    "ExecuteTime": {
     "end_time": "2021-04-20T01:53:03.816728Z",
     "start_time": "2021-04-20T01:53:03.791828Z"
    }
   },
   "outputs": [],
   "source": [
    "nike['Date'] = pd.to_datetime(nike['Date']).dt.date.astype('object')"
   ]
  },
  {
   "cell_type": "code",
   "execution_count": 110,
   "metadata": {
    "ExecuteTime": {
     "end_time": "2021-04-20T13:12:30.308503Z",
     "start_time": "2021-04-20T13:12:30.280663Z"
    }
   },
   "outputs": [],
   "source": [
    "unilev['Date'] = pd.to_datetime(unilev['Date']).dt.date.astype('object')"
   ]
  },
  {
   "cell_type": "code",
   "execution_count": 121,
   "metadata": {
    "ExecuteTime": {
     "end_time": "2021-04-20T13:40:07.598629Z",
     "start_time": "2021-04-20T13:40:07.578322Z"
    }
   },
   "outputs": [],
   "source": [
    "daimler['Date'] = pd.to_datetime(daimler['Date']).dt.date.astype('object')"
   ]
  },
  {
   "cell_type": "code",
   "execution_count": 139,
   "metadata": {
    "ExecuteTime": {
     "end_time": "2021-04-20T14:17:07.840487Z",
     "start_time": "2021-04-20T14:17:07.818781Z"
    }
   },
   "outputs": [],
   "source": [
    "petr['Date'] = pd.to_datetime(petr['Date']).dt.date.astype('object')"
   ]
  },
  {
   "cell_type": "code",
   "execution_count": 140,
   "metadata": {
    "ExecuteTime": {
     "end_time": "2021-04-20T14:19:54.500666Z",
     "start_time": "2021-04-20T14:19:54.490694Z"
    }
   },
   "outputs": [],
   "source": [
    "vale['Date'] = pd.to_datetime(vale['Date']).dt.date.astype('object')"
   ]
  },
  {
   "cell_type": "code",
   "execution_count": 141,
   "metadata": {
    "ExecuteTime": {
     "end_time": "2021-04-20T14:19:56.394723Z",
     "start_time": "2021-04-20T14:19:56.377649Z"
    }
   },
   "outputs": [],
   "source": [
    "bova['Date'] = pd.to_datetime(bova['Date']).dt.date.astype('object')"
   ]
  },
  {
   "cell_type": "code",
   "execution_count": 142,
   "metadata": {
    "ExecuteTime": {
     "end_time": "2021-04-20T14:19:58.491765Z",
     "start_time": "2021-04-20T14:19:58.473700Z"
    }
   },
   "outputs": [],
   "source": [
    "adidas['Date'] = pd.to_datetime(adidas['Date']).dt.date.astype('object')"
   ]
  },
  {
   "cell_type": "code",
   "execution_count": 47,
   "metadata": {
    "ExecuteTime": {
     "end_time": "2021-04-17T19:06:46.334300Z",
     "start_time": "2021-04-17T19:06:46.257149Z"
    }
   },
   "outputs": [],
   "source": [
    "sneakers['Release Date'] = sneakers['Release Date'].dt.date.astype('object')\n",
    "#?? converteu a Release Date em object?"
   ]
  },
  {
   "cell_type": "code",
   "execution_count": 48,
   "metadata": {
    "ExecuteTime": {
     "end_time": "2021-04-17T19:06:58.752258Z",
     "start_time": "2021-04-17T19:06:58.688129Z"
    }
   },
   "outputs": [],
   "source": [
    "sneakers['Order Date'] = sneakers['Order Date'].dt.date.astype('object')\n",
    "#?? converteu a Order Date em object?"
   ]
  },
  {
   "cell_type": "code",
   "execution_count": 102,
   "metadata": {
    "ExecuteTime": {
     "end_time": "2021-04-20T02:06:53.001582Z",
     "start_time": "2021-04-20T02:06:52.989614Z"
    }
   },
   "outputs": [],
   "source": [
    "#5"
   ]
  },
  {
   "cell_type": "code",
   "execution_count": 156,
   "metadata": {
    "ExecuteTime": {
     "end_time": "2021-04-20T22:17:26.883898Z",
     "start_time": "2021-04-20T22:17:26.846997Z"
    }
   },
   "outputs": [
    {
     "data": {
      "text/html": [
       "<div>\n",
       "<style scoped>\n",
       "    .dataframe tbody tr th:only-of-type {\n",
       "        vertical-align: middle;\n",
       "    }\n",
       "\n",
       "    .dataframe tbody tr th {\n",
       "        vertical-align: top;\n",
       "    }\n",
       "\n",
       "    .dataframe thead th {\n",
       "        text-align: right;\n",
       "    }\n",
       "</style>\n",
       "<table border=\"1\" class=\"dataframe\">\n",
       "  <thead>\n",
       "    <tr style=\"text-align: right;\">\n",
       "      <th></th>\n",
       "      <th>Order Date</th>\n",
       "      <th>Brand</th>\n",
       "      <th>Sneaker Name</th>\n",
       "      <th>Sale Price</th>\n",
       "      <th>Retail Price</th>\n",
       "      <th>Release Date</th>\n",
       "      <th>Shoe Size</th>\n",
       "      <th>Buyer Region</th>\n",
       "    </tr>\n",
       "  </thead>\n",
       "  <tbody>\n",
       "    <tr>\n",
       "      <th>0</th>\n",
       "      <td>2017-09-01</td>\n",
       "      <td>Yeezy</td>\n",
       "      <td>Adidas-Yeezy-Boost-350-Low-V2-Beluga</td>\n",
       "      <td>1097.0</td>\n",
       "      <td>220</td>\n",
       "      <td>2016-09-24</td>\n",
       "      <td>11.0</td>\n",
       "      <td>California</td>\n",
       "    </tr>\n",
       "    <tr>\n",
       "      <th>1</th>\n",
       "      <td>2017-09-01</td>\n",
       "      <td>Yeezy</td>\n",
       "      <td>Adidas-Yeezy-Boost-350-V2-Core-Black-Copper</td>\n",
       "      <td>685.0</td>\n",
       "      <td>220</td>\n",
       "      <td>2016-11-23</td>\n",
       "      <td>11.0</td>\n",
       "      <td>California</td>\n",
       "    </tr>\n",
       "    <tr>\n",
       "      <th>2</th>\n",
       "      <td>2017-09-01</td>\n",
       "      <td>Yeezy</td>\n",
       "      <td>Adidas-Yeezy-Boost-350-V2-Core-Black-Green</td>\n",
       "      <td>690.0</td>\n",
       "      <td>220</td>\n",
       "      <td>2016-11-23</td>\n",
       "      <td>11.0</td>\n",
       "      <td>California</td>\n",
       "    </tr>\n",
       "    <tr>\n",
       "      <th>3</th>\n",
       "      <td>2017-09-01</td>\n",
       "      <td>Yeezy</td>\n",
       "      <td>Adidas-Yeezy-Boost-350-V2-Core-Black-Red</td>\n",
       "      <td>1075.0</td>\n",
       "      <td>220</td>\n",
       "      <td>2016-11-23</td>\n",
       "      <td>11.5</td>\n",
       "      <td>Kentucky</td>\n",
       "    </tr>\n",
       "    <tr>\n",
       "      <th>4</th>\n",
       "      <td>2017-09-01</td>\n",
       "      <td>Yeezy</td>\n",
       "      <td>Adidas-Yeezy-Boost-350-V2-Core-Black-Red-2017</td>\n",
       "      <td>828.0</td>\n",
       "      <td>220</td>\n",
       "      <td>2017-02-11</td>\n",
       "      <td>11.0</td>\n",
       "      <td>Rhode Island</td>\n",
       "    </tr>\n",
       "    <tr>\n",
       "      <th>...</th>\n",
       "      <td>...</td>\n",
       "      <td>...</td>\n",
       "      <td>...</td>\n",
       "      <td>...</td>\n",
       "      <td>...</td>\n",
       "      <td>...</td>\n",
       "      <td>...</td>\n",
       "      <td>...</td>\n",
       "    </tr>\n",
       "    <tr>\n",
       "      <th>99951</th>\n",
       "      <td>2019-02-13</td>\n",
       "      <td>Yeezy</td>\n",
       "      <td>adidas-Yeezy-Boost-350-V2-Static-Reflective</td>\n",
       "      <td>565.0</td>\n",
       "      <td>220</td>\n",
       "      <td>2018-12-26</td>\n",
       "      <td>8.0</td>\n",
       "      <td>Oregon</td>\n",
       "    </tr>\n",
       "    <tr>\n",
       "      <th>99952</th>\n",
       "      <td>2019-02-13</td>\n",
       "      <td>Yeezy</td>\n",
       "      <td>adidas-Yeezy-Boost-350-V2-Static-Reflective</td>\n",
       "      <td>598.0</td>\n",
       "      <td>220</td>\n",
       "      <td>2018-12-26</td>\n",
       "      <td>8.5</td>\n",
       "      <td>California</td>\n",
       "    </tr>\n",
       "    <tr>\n",
       "      <th>99953</th>\n",
       "      <td>2019-02-13</td>\n",
       "      <td>Yeezy</td>\n",
       "      <td>adidas-Yeezy-Boost-350-V2-Static-Reflective</td>\n",
       "      <td>605.0</td>\n",
       "      <td>220</td>\n",
       "      <td>2018-12-26</td>\n",
       "      <td>5.5</td>\n",
       "      <td>New York</td>\n",
       "    </tr>\n",
       "    <tr>\n",
       "      <th>99954</th>\n",
       "      <td>2019-02-13</td>\n",
       "      <td>Yeezy</td>\n",
       "      <td>adidas-Yeezy-Boost-350-V2-Static-Reflective</td>\n",
       "      <td>650.0</td>\n",
       "      <td>220</td>\n",
       "      <td>2018-12-26</td>\n",
       "      <td>11.0</td>\n",
       "      <td>California</td>\n",
       "    </tr>\n",
       "    <tr>\n",
       "      <th>99955</th>\n",
       "      <td>2019-02-13</td>\n",
       "      <td>Yeezy</td>\n",
       "      <td>adidas-Yeezy-Boost-350-V2-Static-Reflective</td>\n",
       "      <td>640.0</td>\n",
       "      <td>220</td>\n",
       "      <td>2018-12-26</td>\n",
       "      <td>11.5</td>\n",
       "      <td>Texas</td>\n",
       "    </tr>\n",
       "  </tbody>\n",
       "</table>\n",
       "<p>99956 rows × 8 columns</p>\n",
       "</div>"
      ],
      "text/plain": [
       "       Order Date   Brand                                   Sneaker Name  \\\n",
       "0      2017-09-01   Yeezy           Adidas-Yeezy-Boost-350-Low-V2-Beluga   \n",
       "1      2017-09-01   Yeezy    Adidas-Yeezy-Boost-350-V2-Core-Black-Copper   \n",
       "2      2017-09-01   Yeezy     Adidas-Yeezy-Boost-350-V2-Core-Black-Green   \n",
       "3      2017-09-01   Yeezy       Adidas-Yeezy-Boost-350-V2-Core-Black-Red   \n",
       "4      2017-09-01   Yeezy  Adidas-Yeezy-Boost-350-V2-Core-Black-Red-2017   \n",
       "...           ...     ...                                            ...   \n",
       "99951  2019-02-13   Yeezy    adidas-Yeezy-Boost-350-V2-Static-Reflective   \n",
       "99952  2019-02-13   Yeezy    adidas-Yeezy-Boost-350-V2-Static-Reflective   \n",
       "99953  2019-02-13   Yeezy    adidas-Yeezy-Boost-350-V2-Static-Reflective   \n",
       "99954  2019-02-13   Yeezy    adidas-Yeezy-Boost-350-V2-Static-Reflective   \n",
       "99955  2019-02-13   Yeezy    adidas-Yeezy-Boost-350-V2-Static-Reflective   \n",
       "\n",
       "       Sale Price  Retail Price Release Date  Shoe Size  Buyer Region  \n",
       "0          1097.0           220   2016-09-24       11.0    California  \n",
       "1           685.0           220   2016-11-23       11.0    California  \n",
       "2           690.0           220   2016-11-23       11.0    California  \n",
       "3          1075.0           220   2016-11-23       11.5      Kentucky  \n",
       "4           828.0           220   2017-02-11       11.0  Rhode Island  \n",
       "...           ...           ...          ...        ...           ...  \n",
       "99951       565.0           220   2018-12-26        8.0        Oregon  \n",
       "99952       598.0           220   2018-12-26        8.5    California  \n",
       "99953       605.0           220   2018-12-26        5.5      New York  \n",
       "99954       650.0           220   2018-12-26       11.0    California  \n",
       "99955       640.0           220   2018-12-26       11.5         Texas  \n",
       "\n",
       "[99956 rows x 8 columns]"
      ]
     },
     "execution_count": 156,
     "metadata": {},
     "output_type": "execute_result"
    }
   ],
   "source": [
    "sneakers"
   ]
  },
  {
   "cell_type": "code",
   "execution_count": 155,
   "metadata": {
    "ExecuteTime": {
     "end_time": "2021-04-20T22:14:51.354982Z",
     "start_time": "2021-04-20T22:14:39.674932Z"
    }
   },
   "outputs": [
    {
     "data": {
      "text/html": [
       "<div>\n",
       "<style scoped>\n",
       "    .dataframe tbody tr th:only-of-type {\n",
       "        vertical-align: middle;\n",
       "    }\n",
       "\n",
       "    .dataframe tbody tr th {\n",
       "        vertical-align: top;\n",
       "    }\n",
       "\n",
       "    .dataframe thead th {\n",
       "        text-align: right;\n",
       "    }\n",
       "</style>\n",
       "<table border=\"1\" class=\"dataframe\">\n",
       "  <thead>\n",
       "    <tr style=\"text-align: right;\">\n",
       "      <th></th>\n",
       "      <th>Order Date</th>\n",
       "      <th>Brand</th>\n",
       "      <th>Sneaker Name</th>\n",
       "      <th>Sale Price</th>\n",
       "      <th>Retail Price</th>\n",
       "      <th>Release Date</th>\n",
       "      <th>Shoe Size</th>\n",
       "      <th>Buyer Region</th>\n",
       "      <th>Date_before</th>\n",
       "      <th>Close_before</th>\n",
       "      <th>...</th>\n",
       "      <th>% adidas_x</th>\n",
       "      <th>Date_after</th>\n",
       "      <th>Close_after</th>\n",
       "      <th>% bova</th>\n",
       "      <th>Date_before</th>\n",
       "      <th>Close_before</th>\n",
       "      <th>% adidas_y</th>\n",
       "      <th>Date_after</th>\n",
       "      <th>Close_after</th>\n",
       "      <th>% adidas</th>\n",
       "    </tr>\n",
       "  </thead>\n",
       "  <tbody>\n",
       "    <tr>\n",
       "      <th>0</th>\n",
       "      <td>2017-09-01</td>\n",
       "      <td>Yeezy</td>\n",
       "      <td>Adidas-Yeezy-Boost-350-Low-V2-Beluga</td>\n",
       "      <td>1097.0</td>\n",
       "      <td>220</td>\n",
       "      <td>2016-09-24</td>\n",
       "      <td>11.0</td>\n",
       "      <td>California</td>\n",
       "      <td>2016-09-24</td>\n",
       "      <td>54.400002</td>\n",
       "      <td>...</td>\n",
       "      <td>-0.011928</td>\n",
       "      <td>2017-09-01</td>\n",
       "      <td>69.510002</td>\n",
       "      <td>0.016079</td>\n",
       "      <td>2016-09-24</td>\n",
       "      <td>153.250000</td>\n",
       "      <td>-0.011928</td>\n",
       "      <td>2017-09-01</td>\n",
       "      <td>190.399994</td>\n",
       "      <td>0.009812</td>\n",
       "    </tr>\n",
       "    <tr>\n",
       "      <th>1</th>\n",
       "      <td>2017-09-01</td>\n",
       "      <td>Yeezy</td>\n",
       "      <td>Adidas-Yeezy-Boost-350-V2-Core-Black-Copper</td>\n",
       "      <td>685.0</td>\n",
       "      <td>220</td>\n",
       "      <td>2016-11-23</td>\n",
       "      <td>11.0</td>\n",
       "      <td>California</td>\n",
       "      <td>2016-11-23</td>\n",
       "      <td>51.340000</td>\n",
       "      <td>...</td>\n",
       "      <td>-0.001438</td>\n",
       "      <td>2017-09-01</td>\n",
       "      <td>69.510002</td>\n",
       "      <td>0.016079</td>\n",
       "      <td>2016-11-23</td>\n",
       "      <td>138.850006</td>\n",
       "      <td>-0.001438</td>\n",
       "      <td>2017-09-01</td>\n",
       "      <td>190.399994</td>\n",
       "      <td>0.009812</td>\n",
       "    </tr>\n",
       "    <tr>\n",
       "      <th>2</th>\n",
       "      <td>2017-09-01</td>\n",
       "      <td>Yeezy</td>\n",
       "      <td>Adidas-Yeezy-Boost-350-V2-Core-Black-Green</td>\n",
       "      <td>690.0</td>\n",
       "      <td>220</td>\n",
       "      <td>2016-11-23</td>\n",
       "      <td>11.0</td>\n",
       "      <td>California</td>\n",
       "      <td>2016-11-23</td>\n",
       "      <td>51.340000</td>\n",
       "      <td>...</td>\n",
       "      <td>-0.001438</td>\n",
       "      <td>2017-09-01</td>\n",
       "      <td>69.510002</td>\n",
       "      <td>0.016079</td>\n",
       "      <td>2016-11-23</td>\n",
       "      <td>138.850006</td>\n",
       "      <td>-0.001438</td>\n",
       "      <td>2017-09-01</td>\n",
       "      <td>190.399994</td>\n",
       "      <td>0.009812</td>\n",
       "    </tr>\n",
       "    <tr>\n",
       "      <th>3</th>\n",
       "      <td>2017-09-01</td>\n",
       "      <td>Yeezy</td>\n",
       "      <td>Adidas-Yeezy-Boost-350-V2-Core-Black-Red</td>\n",
       "      <td>1075.0</td>\n",
       "      <td>220</td>\n",
       "      <td>2016-11-23</td>\n",
       "      <td>11.5</td>\n",
       "      <td>Kentucky</td>\n",
       "      <td>2016-11-23</td>\n",
       "      <td>51.340000</td>\n",
       "      <td>...</td>\n",
       "      <td>-0.001438</td>\n",
       "      <td>2017-09-01</td>\n",
       "      <td>69.510002</td>\n",
       "      <td>0.016079</td>\n",
       "      <td>2016-11-23</td>\n",
       "      <td>138.850006</td>\n",
       "      <td>-0.001438</td>\n",
       "      <td>2017-09-01</td>\n",
       "      <td>190.399994</td>\n",
       "      <td>0.009812</td>\n",
       "    </tr>\n",
       "    <tr>\n",
       "      <th>4</th>\n",
       "      <td>2017-09-01</td>\n",
       "      <td>Yeezy</td>\n",
       "      <td>Adidas-Yeezy-Boost-350-V2-Core-Black-Red-2017</td>\n",
       "      <td>828.0</td>\n",
       "      <td>220</td>\n",
       "      <td>2017-02-11</td>\n",
       "      <td>11.0</td>\n",
       "      <td>Rhode Island</td>\n",
       "      <td>2017-02-11</td>\n",
       "      <td>56.090000</td>\n",
       "      <td>...</td>\n",
       "      <td>0.012383</td>\n",
       "      <td>2017-09-01</td>\n",
       "      <td>69.510002</td>\n",
       "      <td>0.016079</td>\n",
       "      <td>2017-02-11</td>\n",
       "      <td>151.250000</td>\n",
       "      <td>0.012383</td>\n",
       "      <td>2017-09-01</td>\n",
       "      <td>190.399994</td>\n",
       "      <td>0.009812</td>\n",
       "    </tr>\n",
       "    <tr>\n",
       "      <th>...</th>\n",
       "      <td>...</td>\n",
       "      <td>...</td>\n",
       "      <td>...</td>\n",
       "      <td>...</td>\n",
       "      <td>...</td>\n",
       "      <td>...</td>\n",
       "      <td>...</td>\n",
       "      <td>...</td>\n",
       "      <td>...</td>\n",
       "      <td>...</td>\n",
       "      <td>...</td>\n",
       "      <td>...</td>\n",
       "      <td>...</td>\n",
       "      <td>...</td>\n",
       "      <td>...</td>\n",
       "      <td>...</td>\n",
       "      <td>...</td>\n",
       "      <td>...</td>\n",
       "      <td>...</td>\n",
       "      <td>...</td>\n",
       "      <td>...</td>\n",
       "    </tr>\n",
       "    <tr>\n",
       "      <th>99951</th>\n",
       "      <td>2019-02-13</td>\n",
       "      <td>Yeezy</td>\n",
       "      <td>adidas-Yeezy-Boost-350-V2-Static-Reflective</td>\n",
       "      <td>565.0</td>\n",
       "      <td>220</td>\n",
       "      <td>2018-12-26</td>\n",
       "      <td>8.0</td>\n",
       "      <td>Oregon</td>\n",
       "      <td>2018-12-26</td>\n",
       "      <td>73.010002</td>\n",
       "      <td>...</td>\n",
       "      <td>-0.025169</td>\n",
       "      <td>2019-02-13</td>\n",
       "      <td>92.599998</td>\n",
       "      <td>0.001623</td>\n",
       "      <td>2018-12-26</td>\n",
       "      <td>180.100006</td>\n",
       "      <td>-0.025169</td>\n",
       "      <td>2019-02-13</td>\n",
       "      <td>198.649994</td>\n",
       "      <td>-0.012183</td>\n",
       "    </tr>\n",
       "    <tr>\n",
       "      <th>99952</th>\n",
       "      <td>2019-02-13</td>\n",
       "      <td>Yeezy</td>\n",
       "      <td>adidas-Yeezy-Boost-350-V2-Static-Reflective</td>\n",
       "      <td>598.0</td>\n",
       "      <td>220</td>\n",
       "      <td>2018-12-26</td>\n",
       "      <td>8.5</td>\n",
       "      <td>California</td>\n",
       "      <td>2018-12-26</td>\n",
       "      <td>73.010002</td>\n",
       "      <td>...</td>\n",
       "      <td>-0.025169</td>\n",
       "      <td>2019-02-13</td>\n",
       "      <td>92.599998</td>\n",
       "      <td>0.001623</td>\n",
       "      <td>2018-12-26</td>\n",
       "      <td>180.100006</td>\n",
       "      <td>-0.025169</td>\n",
       "      <td>2019-02-13</td>\n",
       "      <td>198.649994</td>\n",
       "      <td>-0.012183</td>\n",
       "    </tr>\n",
       "    <tr>\n",
       "      <th>99953</th>\n",
       "      <td>2019-02-13</td>\n",
       "      <td>Yeezy</td>\n",
       "      <td>adidas-Yeezy-Boost-350-V2-Static-Reflective</td>\n",
       "      <td>605.0</td>\n",
       "      <td>220</td>\n",
       "      <td>2018-12-26</td>\n",
       "      <td>5.5</td>\n",
       "      <td>New York</td>\n",
       "      <td>2018-12-26</td>\n",
       "      <td>73.010002</td>\n",
       "      <td>...</td>\n",
       "      <td>-0.025169</td>\n",
       "      <td>2019-02-13</td>\n",
       "      <td>92.599998</td>\n",
       "      <td>0.001623</td>\n",
       "      <td>2018-12-26</td>\n",
       "      <td>180.100006</td>\n",
       "      <td>-0.025169</td>\n",
       "      <td>2019-02-13</td>\n",
       "      <td>198.649994</td>\n",
       "      <td>-0.012183</td>\n",
       "    </tr>\n",
       "    <tr>\n",
       "      <th>99954</th>\n",
       "      <td>2019-02-13</td>\n",
       "      <td>Yeezy</td>\n",
       "      <td>adidas-Yeezy-Boost-350-V2-Static-Reflective</td>\n",
       "      <td>650.0</td>\n",
       "      <td>220</td>\n",
       "      <td>2018-12-26</td>\n",
       "      <td>11.0</td>\n",
       "      <td>California</td>\n",
       "      <td>2018-12-26</td>\n",
       "      <td>73.010002</td>\n",
       "      <td>...</td>\n",
       "      <td>-0.025169</td>\n",
       "      <td>2019-02-13</td>\n",
       "      <td>92.599998</td>\n",
       "      <td>0.001623</td>\n",
       "      <td>2018-12-26</td>\n",
       "      <td>180.100006</td>\n",
       "      <td>-0.025169</td>\n",
       "      <td>2019-02-13</td>\n",
       "      <td>198.649994</td>\n",
       "      <td>-0.012183</td>\n",
       "    </tr>\n",
       "    <tr>\n",
       "      <th>99955</th>\n",
       "      <td>2019-02-13</td>\n",
       "      <td>Yeezy</td>\n",
       "      <td>adidas-Yeezy-Boost-350-V2-Static-Reflective</td>\n",
       "      <td>640.0</td>\n",
       "      <td>220</td>\n",
       "      <td>2018-12-26</td>\n",
       "      <td>11.5</td>\n",
       "      <td>Texas</td>\n",
       "      <td>2018-12-26</td>\n",
       "      <td>73.010002</td>\n",
       "      <td>...</td>\n",
       "      <td>-0.025169</td>\n",
       "      <td>2019-02-13</td>\n",
       "      <td>92.599998</td>\n",
       "      <td>0.001623</td>\n",
       "      <td>2018-12-26</td>\n",
       "      <td>180.100006</td>\n",
       "      <td>-0.025169</td>\n",
       "      <td>2019-02-13</td>\n",
       "      <td>198.649994</td>\n",
       "      <td>-0.012183</td>\n",
       "    </tr>\n",
       "  </tbody>\n",
       "</table>\n",
       "<p>99956 rows × 56 columns</p>\n",
       "</div>"
      ],
      "text/plain": [
       "       Order Date   Brand                                   Sneaker Name  \\\n",
       "0      2017-09-01   Yeezy           Adidas-Yeezy-Boost-350-Low-V2-Beluga   \n",
       "1      2017-09-01   Yeezy    Adidas-Yeezy-Boost-350-V2-Core-Black-Copper   \n",
       "2      2017-09-01   Yeezy     Adidas-Yeezy-Boost-350-V2-Core-Black-Green   \n",
       "3      2017-09-01   Yeezy       Adidas-Yeezy-Boost-350-V2-Core-Black-Red   \n",
       "4      2017-09-01   Yeezy  Adidas-Yeezy-Boost-350-V2-Core-Black-Red-2017   \n",
       "...           ...     ...                                            ...   \n",
       "99951  2019-02-13   Yeezy    adidas-Yeezy-Boost-350-V2-Static-Reflective   \n",
       "99952  2019-02-13   Yeezy    adidas-Yeezy-Boost-350-V2-Static-Reflective   \n",
       "99953  2019-02-13   Yeezy    adidas-Yeezy-Boost-350-V2-Static-Reflective   \n",
       "99954  2019-02-13   Yeezy    adidas-Yeezy-Boost-350-V2-Static-Reflective   \n",
       "99955  2019-02-13   Yeezy    adidas-Yeezy-Boost-350-V2-Static-Reflective   \n",
       "\n",
       "       Sale Price  Retail Price Release Date  Shoe Size  Buyer Region  \\\n",
       "0          1097.0           220   2016-09-24       11.0    California   \n",
       "1           685.0           220   2016-11-23       11.0    California   \n",
       "2           690.0           220   2016-11-23       11.0    California   \n",
       "3          1075.0           220   2016-11-23       11.5      Kentucky   \n",
       "4           828.0           220   2017-02-11       11.0  Rhode Island   \n",
       "...           ...           ...          ...        ...           ...   \n",
       "99951       565.0           220   2018-12-26        8.0        Oregon   \n",
       "99952       598.0           220   2018-12-26        8.5    California   \n",
       "99953       605.0           220   2018-12-26        5.5      New York   \n",
       "99954       650.0           220   2018-12-26       11.0    California   \n",
       "99955       640.0           220   2018-12-26       11.5         Texas   \n",
       "\n",
       "      Date_before  Close_before  ...  % adidas_x  Date_after  Close_after  \\\n",
       "0      2016-09-24     54.400002  ...   -0.011928  2017-09-01    69.510002   \n",
       "1      2016-11-23     51.340000  ...   -0.001438  2017-09-01    69.510002   \n",
       "2      2016-11-23     51.340000  ...   -0.001438  2017-09-01    69.510002   \n",
       "3      2016-11-23     51.340000  ...   -0.001438  2017-09-01    69.510002   \n",
       "4      2017-02-11     56.090000  ...    0.012383  2017-09-01    69.510002   \n",
       "...           ...           ...  ...         ...         ...          ...   \n",
       "99951  2018-12-26     73.010002  ...   -0.025169  2019-02-13    92.599998   \n",
       "99952  2018-12-26     73.010002  ...   -0.025169  2019-02-13    92.599998   \n",
       "99953  2018-12-26     73.010002  ...   -0.025169  2019-02-13    92.599998   \n",
       "99954  2018-12-26     73.010002  ...   -0.025169  2019-02-13    92.599998   \n",
       "99955  2018-12-26     73.010002  ...   -0.025169  2019-02-13    92.599998   \n",
       "\n",
       "         % bova Date_before  Close_before  % adidas_y  Date_after  \\\n",
       "0      0.016079  2016-09-24    153.250000   -0.011928  2017-09-01   \n",
       "1      0.016079  2016-11-23    138.850006   -0.001438  2017-09-01   \n",
       "2      0.016079  2016-11-23    138.850006   -0.001438  2017-09-01   \n",
       "3      0.016079  2016-11-23    138.850006   -0.001438  2017-09-01   \n",
       "4      0.016079  2017-02-11    151.250000    0.012383  2017-09-01   \n",
       "...         ...         ...           ...         ...         ...   \n",
       "99951  0.001623  2018-12-26    180.100006   -0.025169  2019-02-13   \n",
       "99952  0.001623  2018-12-26    180.100006   -0.025169  2019-02-13   \n",
       "99953  0.001623  2018-12-26    180.100006   -0.025169  2019-02-13   \n",
       "99954  0.001623  2018-12-26    180.100006   -0.025169  2019-02-13   \n",
       "99955  0.001623  2018-12-26    180.100006   -0.025169  2019-02-13   \n",
       "\n",
       "       Close_after  % adidas  \n",
       "0       190.399994  0.009812  \n",
       "1       190.399994  0.009812  \n",
       "2       190.399994  0.009812  \n",
       "3       190.399994  0.009812  \n",
       "4       190.399994  0.009812  \n",
       "...            ...       ...  \n",
       "99951   198.649994 -0.012183  \n",
       "99952   198.649994 -0.012183  \n",
       "99953   198.649994 -0.012183  \n",
       "99954   198.649994 -0.012183  \n",
       "99955   198.649994 -0.012183  \n",
       "\n",
       "[99956 rows x 56 columns]"
      ]
     },
     "execution_count": 155,
     "metadata": {},
     "output_type": "execute_result"
    }
   ],
   "source": [
    "sneakers.merge(nike, how='left', left_on = 'Release Date', right_on = \"Date\").merge(nike, how='left', left_on = 'Order Date', right_on = \"Date\", suffixes = ['_before', '_after']).merge(ambev, how='left', left_on = 'Release Date', right_on = \"Date\").merge(ambev, how='left', left_on = 'Order Date', right_on = \"Date\", suffixes = ['_before', '_after']).merge(unilev, how='left', left_on = 'Release Date', right_on = \"Date\").merge(unilev, how='left', left_on = 'Order Date', right_on = \"Date\", suffixes = ['_before', '_after']).merge(daimler, how='left', left_on = 'Release Date', right_on = \"Date\").merge(daimler, how='left', left_on = 'Order Date', right_on = \"Date\", suffixes = ['_before', '_after']).merge(petr, how='left', left_on = 'Release Date', right_on = \"Date\").merge(petr, how='left', left_on = 'Order Date', right_on = \"Date\", suffixes = ['_before', '_after']).merge(vale, how='left', left_on = 'Release Date', right_on = \"Date\").merge(vale, how='left', left_on = 'Order Date', right_on = \"Date\", suffixes = ['_before', '_after']).merge(adidas, how='left', left_on = 'Release Date', right_on = \"Date\").merge(bova, how='left', left_on = 'Order Date', right_on = \"Date\", suffixes = ['_before', '_after']).merge(adidas, how='left', left_on = 'Release Date', right_on = \"Date\").merge(adidas, how='left', left_on = 'Order Date', right_on = \"Date\", suffixes = ['_before', '_after'])"
   ]
  },
  {
   "cell_type": "code",
   "execution_count": 88,
   "metadata": {
    "ExecuteTime": {
     "end_time": "2021-04-17T19:44:13.719300Z",
     "start_time": "2021-04-17T19:44:13.518831Z"
    }
   },
   "outputs": [
    {
     "data": {
      "text/html": [
       "<div>\n",
       "<style scoped>\n",
       "    .dataframe tbody tr th:only-of-type {\n",
       "        vertical-align: middle;\n",
       "    }\n",
       "\n",
       "    .dataframe tbody tr th {\n",
       "        vertical-align: top;\n",
       "    }\n",
       "\n",
       "    .dataframe thead th {\n",
       "        text-align: right;\n",
       "    }\n",
       "</style>\n",
       "<table border=\"1\" class=\"dataframe\">\n",
       "  <thead>\n",
       "    <tr style=\"text-align: right;\">\n",
       "      <th></th>\n",
       "      <th>Order Date</th>\n",
       "      <th>Brand</th>\n",
       "      <th>Sneaker Name</th>\n",
       "      <th>Sale Price</th>\n",
       "      <th>Retail Price</th>\n",
       "      <th>Release Date</th>\n",
       "      <th>Shoe Size</th>\n",
       "      <th>Buyer Region</th>\n",
       "      <th>Date_before</th>\n",
       "      <th>Close_before</th>\n",
       "      <th>% ambev_before</th>\n",
       "      <th>Date_after</th>\n",
       "      <th>Close_after</th>\n",
       "      <th>% ambev_after</th>\n",
       "    </tr>\n",
       "  </thead>\n",
       "  <tbody>\n",
       "    <tr>\n",
       "      <th>0</th>\n",
       "      <td>2017-09-01</td>\n",
       "      <td>Yeezy</td>\n",
       "      <td>Adidas-Yeezy-Boost-350-Low-V2-Beluga</td>\n",
       "      <td>1097.0</td>\n",
       "      <td>220</td>\n",
       "      <td>2016-09-24</td>\n",
       "      <td>11.0</td>\n",
       "      <td>California</td>\n",
       "      <td>2016-09-24</td>\n",
       "      <td>19.620001</td>\n",
       "      <td>-0.005575</td>\n",
       "      <td>2017-09-01</td>\n",
       "      <td>19.760000</td>\n",
       "      <td>-0.005035</td>\n",
       "    </tr>\n",
       "    <tr>\n",
       "      <th>1</th>\n",
       "      <td>2017-09-01</td>\n",
       "      <td>Yeezy</td>\n",
       "      <td>Adidas-Yeezy-Boost-350-V2-Core-Black-Copper</td>\n",
       "      <td>685.0</td>\n",
       "      <td>220</td>\n",
       "      <td>2016-11-23</td>\n",
       "      <td>11.0</td>\n",
       "      <td>California</td>\n",
       "      <td>2016-11-23</td>\n",
       "      <td>17.639999</td>\n",
       "      <td>0.027373</td>\n",
       "      <td>2017-09-01</td>\n",
       "      <td>19.760000</td>\n",
       "      <td>-0.005035</td>\n",
       "    </tr>\n",
       "    <tr>\n",
       "      <th>2</th>\n",
       "      <td>2017-09-01</td>\n",
       "      <td>Yeezy</td>\n",
       "      <td>Adidas-Yeezy-Boost-350-V2-Core-Black-Green</td>\n",
       "      <td>690.0</td>\n",
       "      <td>220</td>\n",
       "      <td>2016-11-23</td>\n",
       "      <td>11.0</td>\n",
       "      <td>California</td>\n",
       "      <td>2016-11-23</td>\n",
       "      <td>17.639999</td>\n",
       "      <td>0.027373</td>\n",
       "      <td>2017-09-01</td>\n",
       "      <td>19.760000</td>\n",
       "      <td>-0.005035</td>\n",
       "    </tr>\n",
       "    <tr>\n",
       "      <th>3</th>\n",
       "      <td>2017-09-01</td>\n",
       "      <td>Yeezy</td>\n",
       "      <td>Adidas-Yeezy-Boost-350-V2-Core-Black-Red</td>\n",
       "      <td>1075.0</td>\n",
       "      <td>220</td>\n",
       "      <td>2016-11-23</td>\n",
       "      <td>11.5</td>\n",
       "      <td>Kentucky</td>\n",
       "      <td>2016-11-23</td>\n",
       "      <td>17.639999</td>\n",
       "      <td>0.027373</td>\n",
       "      <td>2017-09-01</td>\n",
       "      <td>19.760000</td>\n",
       "      <td>-0.005035</td>\n",
       "    </tr>\n",
       "    <tr>\n",
       "      <th>4</th>\n",
       "      <td>2017-09-01</td>\n",
       "      <td>Yeezy</td>\n",
       "      <td>Adidas-Yeezy-Boost-350-V2-Core-Black-Red-2017</td>\n",
       "      <td>828.0</td>\n",
       "      <td>220</td>\n",
       "      <td>2017-02-11</td>\n",
       "      <td>11.0</td>\n",
       "      <td>Rhode Island</td>\n",
       "      <td>2017-02-11</td>\n",
       "      <td>17.250000</td>\n",
       "      <td>0.006418</td>\n",
       "      <td>2017-09-01</td>\n",
       "      <td>19.760000</td>\n",
       "      <td>-0.005035</td>\n",
       "    </tr>\n",
       "    <tr>\n",
       "      <th>...</th>\n",
       "      <td>...</td>\n",
       "      <td>...</td>\n",
       "      <td>...</td>\n",
       "      <td>...</td>\n",
       "      <td>...</td>\n",
       "      <td>...</td>\n",
       "      <td>...</td>\n",
       "      <td>...</td>\n",
       "      <td>...</td>\n",
       "      <td>...</td>\n",
       "      <td>...</td>\n",
       "      <td>...</td>\n",
       "      <td>...</td>\n",
       "      <td>...</td>\n",
       "    </tr>\n",
       "    <tr>\n",
       "      <th>99951</th>\n",
       "      <td>2019-02-13</td>\n",
       "      <td>Yeezy</td>\n",
       "      <td>adidas-Yeezy-Boost-350-V2-Static-Reflective</td>\n",
       "      <td>565.0</td>\n",
       "      <td>220</td>\n",
       "      <td>2018-12-26</td>\n",
       "      <td>8.0</td>\n",
       "      <td>Oregon</td>\n",
       "      <td>2018-12-26</td>\n",
       "      <td>15.140000</td>\n",
       "      <td>-0.001978</td>\n",
       "      <td>2019-02-13</td>\n",
       "      <td>18.389999</td>\n",
       "      <td>-0.014997</td>\n",
       "    </tr>\n",
       "    <tr>\n",
       "      <th>99952</th>\n",
       "      <td>2019-02-13</td>\n",
       "      <td>Yeezy</td>\n",
       "      <td>adidas-Yeezy-Boost-350-V2-Static-Reflective</td>\n",
       "      <td>598.0</td>\n",
       "      <td>220</td>\n",
       "      <td>2018-12-26</td>\n",
       "      <td>8.5</td>\n",
       "      <td>California</td>\n",
       "      <td>2018-12-26</td>\n",
       "      <td>15.140000</td>\n",
       "      <td>-0.001978</td>\n",
       "      <td>2019-02-13</td>\n",
       "      <td>18.389999</td>\n",
       "      <td>-0.014997</td>\n",
       "    </tr>\n",
       "    <tr>\n",
       "      <th>99953</th>\n",
       "      <td>2019-02-13</td>\n",
       "      <td>Yeezy</td>\n",
       "      <td>adidas-Yeezy-Boost-350-V2-Static-Reflective</td>\n",
       "      <td>605.0</td>\n",
       "      <td>220</td>\n",
       "      <td>2018-12-26</td>\n",
       "      <td>5.5</td>\n",
       "      <td>New York</td>\n",
       "      <td>2018-12-26</td>\n",
       "      <td>15.140000</td>\n",
       "      <td>-0.001978</td>\n",
       "      <td>2019-02-13</td>\n",
       "      <td>18.389999</td>\n",
       "      <td>-0.014997</td>\n",
       "    </tr>\n",
       "    <tr>\n",
       "      <th>99954</th>\n",
       "      <td>2019-02-13</td>\n",
       "      <td>Yeezy</td>\n",
       "      <td>adidas-Yeezy-Boost-350-V2-Static-Reflective</td>\n",
       "      <td>650.0</td>\n",
       "      <td>220</td>\n",
       "      <td>2018-12-26</td>\n",
       "      <td>11.0</td>\n",
       "      <td>California</td>\n",
       "      <td>2018-12-26</td>\n",
       "      <td>15.140000</td>\n",
       "      <td>-0.001978</td>\n",
       "      <td>2019-02-13</td>\n",
       "      <td>18.389999</td>\n",
       "      <td>-0.014997</td>\n",
       "    </tr>\n",
       "    <tr>\n",
       "      <th>99955</th>\n",
       "      <td>2019-02-13</td>\n",
       "      <td>Yeezy</td>\n",
       "      <td>adidas-Yeezy-Boost-350-V2-Static-Reflective</td>\n",
       "      <td>640.0</td>\n",
       "      <td>220</td>\n",
       "      <td>2018-12-26</td>\n",
       "      <td>11.5</td>\n",
       "      <td>Texas</td>\n",
       "      <td>2018-12-26</td>\n",
       "      <td>15.140000</td>\n",
       "      <td>-0.001978</td>\n",
       "      <td>2019-02-13</td>\n",
       "      <td>18.389999</td>\n",
       "      <td>-0.014997</td>\n",
       "    </tr>\n",
       "  </tbody>\n",
       "</table>\n",
       "<p>99956 rows × 14 columns</p>\n",
       "</div>"
      ],
      "text/plain": [
       "       Order Date   Brand                                   Sneaker Name  \\\n",
       "0      2017-09-01   Yeezy           Adidas-Yeezy-Boost-350-Low-V2-Beluga   \n",
       "1      2017-09-01   Yeezy    Adidas-Yeezy-Boost-350-V2-Core-Black-Copper   \n",
       "2      2017-09-01   Yeezy     Adidas-Yeezy-Boost-350-V2-Core-Black-Green   \n",
       "3      2017-09-01   Yeezy       Adidas-Yeezy-Boost-350-V2-Core-Black-Red   \n",
       "4      2017-09-01   Yeezy  Adidas-Yeezy-Boost-350-V2-Core-Black-Red-2017   \n",
       "...           ...     ...                                            ...   \n",
       "99951  2019-02-13   Yeezy    adidas-Yeezy-Boost-350-V2-Static-Reflective   \n",
       "99952  2019-02-13   Yeezy    adidas-Yeezy-Boost-350-V2-Static-Reflective   \n",
       "99953  2019-02-13   Yeezy    adidas-Yeezy-Boost-350-V2-Static-Reflective   \n",
       "99954  2019-02-13   Yeezy    adidas-Yeezy-Boost-350-V2-Static-Reflective   \n",
       "99955  2019-02-13   Yeezy    adidas-Yeezy-Boost-350-V2-Static-Reflective   \n",
       "\n",
       "       Sale Price  Retail Price Release Date  Shoe Size  Buyer Region  \\\n",
       "0          1097.0           220   2016-09-24       11.0    California   \n",
       "1           685.0           220   2016-11-23       11.0    California   \n",
       "2           690.0           220   2016-11-23       11.0    California   \n",
       "3          1075.0           220   2016-11-23       11.5      Kentucky   \n",
       "4           828.0           220   2017-02-11       11.0  Rhode Island   \n",
       "...           ...           ...          ...        ...           ...   \n",
       "99951       565.0           220   2018-12-26        8.0        Oregon   \n",
       "99952       598.0           220   2018-12-26        8.5    California   \n",
       "99953       605.0           220   2018-12-26        5.5      New York   \n",
       "99954       650.0           220   2018-12-26       11.0    California   \n",
       "99955       640.0           220   2018-12-26       11.5         Texas   \n",
       "\n",
       "      Date_before  Close_before  % ambev_before  Date_after  Close_after  \\\n",
       "0      2016-09-24     19.620001       -0.005575  2017-09-01    19.760000   \n",
       "1      2016-11-23     17.639999        0.027373  2017-09-01    19.760000   \n",
       "2      2016-11-23     17.639999        0.027373  2017-09-01    19.760000   \n",
       "3      2016-11-23     17.639999        0.027373  2017-09-01    19.760000   \n",
       "4      2017-02-11     17.250000        0.006418  2017-09-01    19.760000   \n",
       "...           ...           ...             ...         ...          ...   \n",
       "99951  2018-12-26     15.140000       -0.001978  2019-02-13    18.389999   \n",
       "99952  2018-12-26     15.140000       -0.001978  2019-02-13    18.389999   \n",
       "99953  2018-12-26     15.140000       -0.001978  2019-02-13    18.389999   \n",
       "99954  2018-12-26     15.140000       -0.001978  2019-02-13    18.389999   \n",
       "99955  2018-12-26     15.140000       -0.001978  2019-02-13    18.389999   \n",
       "\n",
       "       % ambev_after  \n",
       "0          -0.005035  \n",
       "1          -0.005035  \n",
       "2          -0.005035  \n",
       "3          -0.005035  \n",
       "4          -0.005035  \n",
       "...              ...  \n",
       "99951      -0.014997  \n",
       "99952      -0.014997  \n",
       "99953      -0.014997  \n",
       "99954      -0.014997  \n",
       "99955      -0.014997  \n",
       "\n",
       "[99956 rows x 14 columns]"
      ]
     },
     "execution_count": 88,
     "metadata": {},
     "output_type": "execute_result"
    }
   ],
   "source": [
    "sneakers.merge(ambev, how='left', left_on = 'Release Date', right_on = \"Date\").merge(ambev, how='left', left_on = 'Order Date', right_on = \"Date\", suffixes = ['_before', '_after'])"
   ]
  },
  {
   "cell_type": "code",
   "execution_count": 103,
   "metadata": {
    "ExecuteTime": {
     "end_time": "2021-04-20T02:06:55.494640Z",
     "start_time": "2021-04-20T02:06:55.475691Z"
    }
   },
   "outputs": [],
   "source": [
    "#6."
   ]
  },
  {
   "cell_type": "code",
   "execution_count": 89,
   "metadata": {
    "ExecuteTime": {
     "end_time": "2021-04-17T19:44:55.512846Z",
     "start_time": "2021-04-17T19:44:55.361078Z"
    }
   },
   "outputs": [],
   "source": [
    "df_final = sneakers.merge(ambev, how='left', left_on = 'Release Date', right_on = \"Date\").merge(ambev, how='left', left_on = 'Order Date', right_on = \"Date\", suffixes = ['_before', '_after'])"
   ]
  },
  {
   "cell_type": "code",
   "execution_count": null,
   "metadata": {},
   "outputs": [],
   "source": [
    "df_final.to_csv('analise.csv', index=False)"
   ]
  },
  {
   "cell_type": "code",
   "execution_count": 157,
   "metadata": {
    "ExecuteTime": {
     "end_time": "2021-04-20T22:19:39.816676Z",
     "start_time": "2021-04-20T22:19:29.564411Z"
    }
   },
   "outputs": [],
   "source": [
    "df2_final = sneakers.merge(nike, how='left', left_on = 'Release Date', right_on = \"Date\").merge(nike, how='left', left_on = 'Order Date', right_on = \"Date\", suffixes = ['_before', '_after']).merge(ambev, how='left', left_on = 'Release Date', right_on = \"Date\").merge(ambev, how='left', left_on = 'Order Date', right_on = \"Date\", suffixes = ['_before', '_after']).merge(unilev, how='left', left_on = 'Release Date', right_on = \"Date\").merge(unilev, how='left', left_on = 'Order Date', right_on = \"Date\", suffixes = ['_before', '_after']).merge(daimler, how='left', left_on = 'Release Date', right_on = \"Date\").merge(daimler, how='left', left_on = 'Order Date', right_on = \"Date\", suffixes = ['_before', '_after']).merge(petr, how='left', left_on = 'Release Date', right_on = \"Date\").merge(petr, how='left', left_on = 'Order Date', right_on = \"Date\", suffixes = ['_before', '_after']).merge(vale, how='left', left_on = 'Release Date', right_on = \"Date\").merge(vale, how='left', left_on = 'Order Date', right_on = \"Date\", suffixes = ['_before', '_after']).merge(adidas, how='left', left_on = 'Release Date', right_on = \"Date\").merge(bova, how='left', left_on = 'Order Date', right_on = \"Date\", suffixes = ['_before', '_after']).merge(adidas, how='left', left_on = 'Release Date', right_on = \"Date\").merge(adidas, how='left', left_on = 'Order Date', right_on = \"Date\", suffixes = ['_before', '_after'])"
   ]
  },
  {
   "cell_type": "code",
   "execution_count": 158,
   "metadata": {
    "ExecuteTime": {
     "end_time": "2021-04-20T22:19:57.201177Z",
     "start_time": "2021-04-20T22:19:41.400327Z"
    }
   },
   "outputs": [],
   "source": [
    "df2_final.to_csv('analise2.csv', index=False)"
   ]
  },
  {
   "cell_type": "markdown",
   "metadata": {
    "ExecuteTime": {
     "end_time": "2021-04-20T13:14:45.033836Z",
     "start_time": "2021-04-20T13:14:45.017920Z"
    }
   },
   "source": [
    "# Comandos Úteis"
   ]
  },
  {
   "cell_type": "markdown",
   "metadata": {},
   "source": []
  }
 ],
 "metadata": {
  "kernelspec": {
   "display_name": "Python 3",
   "language": "python",
   "name": "python3"
  },
  "language_info": {
   "codemirror_mode": {
    "name": "ipython",
    "version": 3
   },
   "file_extension": ".py",
   "mimetype": "text/x-python",
   "name": "python",
   "nbconvert_exporter": "python",
   "pygments_lexer": "ipython3",
   "version": "3.8.5"
  },
  "toc": {
   "base_numbering": 1,
   "nav_menu": {},
   "number_sections": true,
   "sideBar": true,
   "skip_h1_title": false,
   "title_cell": "Table of Contents",
   "title_sidebar": "Contents",
   "toc_cell": false,
   "toc_position": {},
   "toc_section_display": true,
   "toc_window_display": false
  },
  "varInspector": {
   "cols": {
    "lenName": 16,
    "lenType": 16,
    "lenVar": 40
   },
   "kernels_config": {
    "python": {
     "delete_cmd_postfix": "",
     "delete_cmd_prefix": "del ",
     "library": "var_list.py",
     "varRefreshCmd": "print(var_dic_list())"
    },
    "r": {
     "delete_cmd_postfix": ") ",
     "delete_cmd_prefix": "rm(",
     "library": "var_list.r",
     "varRefreshCmd": "cat(var_dic_list()) "
    }
   },
   "types_to_exclude": [
    "module",
    "function",
    "builtin_function_or_method",
    "instance",
    "_Feature"
   ],
   "window_display": false
  }
 },
 "nbformat": 4,
 "nbformat_minor": 4
}
